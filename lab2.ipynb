{
 "cells": [
  {
   "cell_type": "markdown",
   "metadata": {},
   "source": [
    "# Tarea 2\n",
    "__Jarileen Rucal__\n",
    "\n",
    "20002626\n",
    "\n",
    "## GIT\n",
    "\n",
    "___\n",
    "***\n",
    "\n",
    "* __Descripción:__\n",
    " Herramienta que permite registrar _cambios_, _historial_ en nuestros proyectos. \n",
    " Se puede utilizar para realizar trabajos colaborativos. Se mantienen las distintas versiones con textos o explicaciones.\n",
    " \n",
    "* __Estructura:__\n",
    " 1. Se basa en arboles (Folders) que se componenen en blob (archivos)\n",
    " 2. No utiliza un modelo lineal.\n",
    " 3. Se pueden trabajar varios proyectos con distintas caracteristicas, que parten del mismo archivo \"padre\".\n",
    " 4. Se registran los cambios como \"snapshots\" \n",
    " \n",
    "### video\n",
    "[link explicación git](http://www.youtube.com/watch?v=Uw8SIaAK-vw)\n",
    "\n",
    "### imagen git\n",
    "\n",
    "<img src=https://git-scm.com/book/en/v2/images/data-model-4.png>ç\n"
   ]
  },
  {
   "cell_type": "code",
   "execution_count": null,
   "metadata": {},
   "outputs": [],
   "source": []
  }
 ],
 "metadata": {
  "kernelspec": {
   "display_name": "Python 3",
   "language": "python",
   "name": "python3"
  },
  "language_info": {
   "codemirror_mode": {
    "name": "ipython",
    "version": 3
   },
   "file_extension": ".py",
   "mimetype": "text/x-python",
   "name": "python",
   "nbconvert_exporter": "python",
   "pygments_lexer": "ipython3",
   "version": "3.8.5"
  }
 },
 "nbformat": 4,
 "nbformat_minor": 4
}
